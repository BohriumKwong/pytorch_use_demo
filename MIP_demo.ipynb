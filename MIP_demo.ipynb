{
 "cells": [
  {
   "cell_type": "code",
   "execution_count": 1,
   "metadata": {},
   "outputs": [],
   "source": [
    "from __future__ import print_function, division\n",
    "import torch\n",
    "import torch.nn as nn\n",
    "from torchvision import models\n",
    "import os,sys\n",
    "import matplotlib.pyplot as plt\n",
    "import numpy as np\n",
    "from utils import train,test\n",
    "import pandas as pd\n",
    "import glob\n",
    "from skimage import io\n",
    "\n",
    "os.environ[\"CUDA_VISIBLE_DEVICES\"] = \"2\""
   ]
  },
  {
   "cell_type": "code",
   "execution_count": 2,
   "metadata": {},
   "outputs": [],
   "source": [
    "def load_torch_model(model_ft,model_path,device):\n",
    "    for param in model_ft.parameters():\n",
    "        param.requires_grad = False    \n",
    "    param_update=[]\n",
    "    for name,param in model_ft.layer3.named_parameters():\n",
    "        param.requires_grad = True\n",
    "        param_update.append(param)\n",
    "    for name,param in model_ft.layer4.named_parameters():\n",
    "        param.requires_grad = True\n",
    "        param_update.append(param)\n",
    "    for name,param in model_ft.fc.named_parameters():\n",
    "        param.requires_grad = True\n",
    "        param_update.append(param)\n",
    "    model_ft = nn.DataParallel(model_ft)\n",
    "    \n",
    "    model_wts = torch.load(model_path)\n",
    "    model_ft.load_state_dict(model_wts)    \n",
    "    model_ft = model_ft.to(device)\n",
    "    return model_ft"
   ]
  },
  {
   "cell_type": "code",
   "execution_count": 3,
   "metadata": {},
   "outputs": [],
   "source": [
    "def  batch_mil_sampling(imagelist,region_result_npy,mil_data_save_dir,class_name,class_dict,model_ft):\n",
    "    images = io.imread_collection(imagelist)    \n",
    "    images = np.stack(images)\n",
    "#    images_torch = Variable(torch.from_numpy(images.copy().transpose((0,3, 1, 2))).float().div(255).cuda())\n",
    "    model_ft.eval() \n",
    "    with torch.no_grad():\n",
    "        test_epoch = test.Test_epoch_from_array(model_ft,images,256)\n",
    "        output_predict = test_epoch.predict()\n",
    "    output_order = np.argsort(output_predict[:,class_dict[class_name]])[::-1]\n",
    "    if class_dict[class_name] ==0:\n",
    "        #weight = 0.5\n",
    "        output_slect = output_order[:int(0.5 * len(output_order))]\n",
    "    else:\n",
    "        #weight = 0.2\n",
    "        output_slect = output_order[int(0.3 * len(output_order)):int(0.5 * len(output_order))]\n",
    "    for i in range(len(output_slect)):\n",
    "        os.system('cp ' + imagelist[output_slect[i]] + ' ' + os.path.join(mil_data_save_dir,class_name))\n",
    "        file_name = os.path.basename(imagelist[output_slect[i]]).split('.')[0]\n",
    "        # e.g. TCGA-5M-AAT6-01Z-00-DX1-98_6_3_0_M_norm.png to TCGA-5M-AAT6-01Z-00-DX1-98_6_3_0_M_norm\n",
    "        x = int(file_name.split('-')[-1].split('_')[0])\n",
    "        # e.g. TCGA-5M-AAT6-01Z-00-DX1-98_6_3_0_M_norm to 98\n",
    "        y = int(file_name.split('-')[-1].split('_')[1])\n",
    "        # e.g. TCGA-5M-AAT6-01Z-00-DX1-98_6_3_0_M_norm to 6       \n",
    "        y_nd = int(file_name.split('-')[-1].split('_')[2])\n",
    "        # e.g. TCGA-5M-AAT6-01Z-00-DX1-98_6_3_0_M_norm to 3\n",
    "        y_nd_i = int(file_name.split('-')[-1].split('_')[3])\n",
    "        region_result_npy[y * y_nd + y_nd_i,x] = int(class_dict[class_name]) + 1\n",
    "\n",
    "    return region_result_npy  "
   ]
  },
  {
   "cell_type": "code",
   "execution_count": 4,
   "metadata": {},
   "outputs": [],
   "source": [
    "if __name__ == '__main__':\n",
    "    device = torch.device(\"cuda:0\" if torch.cuda.is_available() else \"cpu\")        \n",
    "    batch_size = 256\n",
    "    data_dir_ori = {'train':'/cptjack/totem_disk/totem/M_MSI_MSS/normal/train',\n",
    "                'val':'/cptjack/totem_disk/totem/M_MSI_MSS/normal/val'}\n",
    "    \n",
    "    model_save_path = '/cptjack/totem_disk/totem/kwong/CRC_DC_TRAIN/MIL'\n",
    "    model_base_name = 'resnet_18'\n",
    "\n",
    "    model_ft = models.resnet18(pretrained = False)\n",
    "    num_ftrs = model_ft.fc.in_features\n",
    "    model_ft.fc = nn.Linear(num_ftrs, 2)\n",
    "    for param in model_ft.parameters():\n",
    "        param.requires_grad = False    \n",
    "    param_update=[]\n",
    "    for name,param in model_ft.layer3.named_parameters():\n",
    "        param.requires_grad = True\n",
    "        param_update.append(param)\n",
    "    for name,param in model_ft.layer4.named_parameters():\n",
    "        param.requires_grad = True\n",
    "        param_update.append(param)\n",
    "    for name,param in model_ft.fc.named_parameters():\n",
    "        param.requires_grad = True\n",
    "        param_update.append(param)\n",
    "#    model_ft = nn.DataParallel(model_ft)\n",
    "    model_ft = model_ft.to(device)\n",
    "    \n",
    "    result_sub = pd.read_csv('/cptjack/totem_disk/totem/kwong/CRC_DC_TRAIN/MIL/TCGA_analysis_statistic_result_0810.csv')\n",
    "    result_name = sorted(list(result_sub[result_sub['percentage_msi'] + result_sub['percentage_mss']>0].case))\n",
    "    \n",
    "    \n",
    "    classes = sorted(os.listdir(data_dir_ori['train']))\n",
    "    class_dict = {x:i for i,x in enumerate(sorted(classes))}\n",
    "    \n",
    "    region_prediction_dir = '/cptjack/totem_data_backup/totem/COLORECTAL_DATA/M_TCGA_analysis_region_prediction_npy_norm_3/'\n",
    "    \n",
    "    mil_sample_result_dir = '/cptjack/totem_disk/totem/sample_result_MIL'\n",
    "    if not os.path.exists(mil_sample_result_dir):\n",
    "        os.makedirs(mil_sample_result_dir)\n",
    "    \n",
    "    mil_data_save_dir = '/cptjack/totem_disk/totem/MSI_MSS_MIP'\n",
    "\n",
    "    all_train_loss = []\n",
    "    all_val_loss = []\n",
    "    \n",
    "    all_train_acc = []\n",
    "    all_val_acc = []\n",
    "    "
   ]
  },
  {
   "cell_type": "code",
   "execution_count": 5,
   "metadata": {},
   "outputs": [
    {
     "name": "stdout",
     "output_type": "stream",
     "text": [
      "----------------\n",
      "Round 0 is processing: \n"
     ]
    },
    {
     "name": "stderr",
     "output_type": "stream",
     "text": [
      "/cptjack/totem_disk/totem/kwong/CRC_DC_TRAIN/MIP/utils/test.py:56: UserWarning: Implicit dimension choice for softmax has been deprecated. Change the call to include dim=X as an argument.\n",
      "  output_predict_batch = F.softmax(output)\n",
      "/root/anaconda3/lib/python3.6/site-packages/ipykernel_launcher.py:19: RuntimeWarning: invalid value encountered in not_equal\n",
      "/cptjack/totem_disk/totem/kwong/CRC_DC_TRAIN/MIP/utils/test.py:45: UserWarning: Implicit dimension choice for softmax has been deprecated. Change the call to include dim=X as an argument.\n",
      "  output_predict = F.softmax(output)\n"
     ]
    },
    {
     "name": "stdout",
     "output_type": "stream",
     "text": [
      "Round 0 begin training: \n",
      "----------\n",
      "train: 100%|██████████| 302/302 [21:44<00:00,  4.81s/it, CrossEntropyLoss - 0.6346, Balanced_acc - 0.6913, recall - 0.6995]\n",
      "train Loss: 0.6605 Acc: 0.5910\n",
      "val: 100%|██████████| 329/329 [37:41<00:00,  5.56s/it, CrossEntropyLoss - 0.7295, Balanced_acc - 0.4485, recall - 0.5]   \n",
      "val Loss: 0.7481 Acc: 0.4758\n",
      "----------------\n",
      "Round 1 is processing: \n",
      "Round 1 begin training: \n",
      "----------\n",
      "train: 100%|██████████| 302/302 [24:08<00:00,  4.20s/it, CrossEntropyLoss - 0.4552, Balanced_acc - 0.7762, recall - 0.7778]\n",
      "train Loss: 0.5041 Acc: 0.7730\n",
      "val: 100%|██████████| 329/329 [23:52<00:00,  3.25s/it, CrossEntropyLoss - 1.117, Balanced_acc - 0.4106, recall - 0.4464] \n",
      "val Loss: 1.0388 Acc: 0.5043\n",
      "----------------\n",
      "Round 2 is processing: \n",
      "Round 2 begin training: \n",
      "----------\n",
      "train: 100%|██████████| 302/302 [21:49<00:00,  4.00s/it, CrossEntropyLoss - 0.4543, Balanced_acc - 0.7756, recall - 0.7814]\n",
      "train Loss: 0.4021 Acc: 0.8176\n",
      "val: 100%|██████████| 329/329 [22:07<00:00,  3.34s/it, CrossEntropyLoss - 1.376, Balanced_acc - 0.4417, recall - 0.4554]\n",
      "val Loss: 1.2089 Acc: 0.5217\n",
      "----------------\n",
      "Round 3 is processing: \n",
      "Round 3 begin training: \n",
      "----------\n",
      "train: 100%|██████████| 302/302 [27:07<00:00,  4.63s/it, CrossEntropyLoss - 0.2947, Balanced_acc - 0.9018, recall - 0.8852]\n",
      "train Loss: 0.3539 Acc: 0.8458\n",
      "val: 100%|██████████| 329/329 [25:47<00:00,  3.75s/it, CrossEntropyLoss - 1.228, Balanced_acc - 0.5272, recall - 0.5625] \n",
      "val Loss: 1.2394 Acc: 0.5346\n",
      "----------------\n",
      "Round 4 is processing: \n",
      "Round 4 begin training: \n",
      "----------\n",
      "train: 100%|██████████| 302/302 [29:18<00:00,  7.40s/it, CrossEntropyLoss - 0.3188, Balanced_acc - 0.8747, recall - 0.8743]\n",
      "train Loss: 0.3302 Acc: 0.8617\n",
      "val: 100%|██████████| 329/329 [37:31<00:00,  4.50s/it, CrossEntropyLoss - 1.471, Balanced_acc - 0.5076, recall - 0.5446] \n",
      "val Loss: 1.2456 Acc: 0.5416\n",
      "----------------\n",
      "Round 5 is processing: \n",
      "Round 5 begin training: \n",
      "----------\n",
      "train: 100%|██████████| 302/302 [27:23<00:00,  5.28s/it, CrossEntropyLoss - 0.4404, Balanced_acc - 0.768, recall - 0.776]  \n",
      "train Loss: 0.3161 Acc: 0.8694\n",
      "val: 100%|██████████| 329/329 [23:14<00:00,  3.55s/it, CrossEntropyLoss - 1.249, Balanced_acc - 0.526, recall - 0.6339]  \n",
      "val Loss: 1.2500 Acc: 0.5450\n"
     ]
    }
   ],
   "source": [
    "    for m in range(6):\n",
    "        # m is the round of MIL processing \n",
    "        if os.path.exists(mil_data_save_dir):\n",
    "            os.system('rm -r ' + mil_data_save_dir)\n",
    "        print('-' * 16)\n",
    "        print('Round ' + str(m) + ' is processing: ')\n",
    "        #model_path = '/cptjack/totem_disk/totem/kwong/CRC_DC_TRAIN/MIL/resnet_18_'+ str(m-1) + '.pth'\n",
    "        #model_ft = load_torch_model(model_path,device)\n",
    "\n",
    "        for class_name in classes: \n",
    "            if not os.path.exists(os.path.join(mil_data_save_dir,class_name)):\n",
    "                os.makedirs(os.path.join(mil_data_save_dir,class_name))\n",
    "            for image_name in result_name:\n",
    "                imagelist = glob.glob(os.path.join(data_dir_ori['train'],class_name,'*' + image_name.split('.')[0] + '*'))\n",
    "                if len(imagelist) > 0:\n",
    "                    preview_filename = image_name + '-region_3_class_output.npy'\n",
    "                    if os.path.exists(region_prediction_dir + preview_filename):\n",
    "                        region_result_npy = np.load(region_prediction_dir + preview_filename)\n",
    "                        region_result_npy[region_result_npy !=3] =0\n",
    "                        try:\n",
    "                            region_result_npy = batch_mil_sampling(imagelist,region_result_npy,mil_data_save_dir,class_name,class_dict,model_ft)\n",
    "                            np.save(os.path.join(mil_sample_result_dir,image_name.split('.')[0] + '_' + str(m) + '_sresult.npy') ,region_result_npy)\n",
    "                        except Exception:\n",
    "                            print('Round ' + str(m) + '_' + image_name + ' error!')\n",
    "        \n",
    "        print('Round ' + str(m) + ' begin training: ')\n",
    "\n",
    "        data_dir = {'train':mil_data_save_dir,\n",
    "                'val':'/cptjack/totem_disk/totem/M_MSI_MSS/normal/val'}\n",
    "        \n",
    "        train_epoch = train.Epoch(\n",
    "                model_ft, \n",
    "                data_dir,\n",
    "                m, \n",
    "                model_save_path,\n",
    "                model_base_name,\n",
    "                batch_size\n",
    "                )\n",
    "#        try:        \n",
    "        model_ft,train_loss,train_acc,val_loss,val_acc = train_epoch.mip_run()                            \n",
    "        all_train_acc.append(train_acc)\n",
    "        all_train_loss.append(train_loss)\n",
    "        all_val_acc.append(val_acc)\n",
    "        all_val_loss.append(val_loss)      \n",
    "#        except Exception:\n",
    "#            print('Round ' + str(m) + ' training error!')\n",
    "    np.save('all_train_acc.npy', all_train_acc)\n",
    "    np.save('all_train_loss.npy', all_train_loss)\n",
    "    np.save('all_val_acc.npy', all_val_acc)\n",
    "    np.save('all_val_loss.npy', all_val_loss)\n",
    "    \n",
    "    \n"
   ]
  },
  {
   "cell_type": "code",
   "execution_count": 6,
   "metadata": {},
   "outputs": [
    {
     "data": {
      "image/png": "[encoded data removed]",
      "text/plain": [
       "<Figure size 432x288 with 1 Axes>"
      ]
     },
     "metadata": {},
     "output_type": "display_data"
    }
   ],
   "source": [
    "    plt.figure()\n",
    "    plt.style.use('bmh') # bmh\n",
    "    plt.title(\"training acc and loss: \", fontsize=18)\n",
    "    train_acc, = plt.plot(all_train_acc,c = 'g',linewidth=3)\n",
    "    val_acc, = plt.plot(all_val_acc,c = 'b',linewidth=3)\n",
    "    train_loss, = plt.plot(all_train_loss,c = 'y',linewidth=3)\n",
    "    val_loss, = plt.plot(all_val_loss,c = 'r',linewidth=3)\n",
    "    plt.xlabel(\"Epoch\", fontsize=14)\n",
    "    plt.ylabel('acc-loss')\n",
    "    plt.tick_params(axis='both', labelsize=14)\n",
    "    plt.legend(handles=[train_acc, val_acc,train_loss,val_loss], labels=['train_acc', 'val_acc','train_loss','val_loss'],\n",
    "        loc='center right') \n",
    "    plt.show()\n",
    "    plt.close()"
   ]
  },
  {
   "cell_type": "code",
   "execution_count": 7,
   "metadata": {},
   "outputs": [
    {
     "data": {
      "text/plain": [
       "<matplotlib.lines.Line2D at 0x7f9f8409d0f0>"
      ]
     },
     "execution_count": 7,
     "metadata": {},
     "output_type": "execute_result"
    }
   ],
   "source": [
    "train_loss"
   ]
  }
 ],
 "metadata": {
  "kernelspec": {
   "display_name": "Python 3",
   "language": "python",
   "name": "python3"
  },
  "language_info": {
   "codemirror_mode": {
    "name": "ipython",
    "version": 3
   },
   "file_extension": ".py",
   "mimetype": "text/x-python",
   "name": "python",
   "nbconvert_exporter": "python",
   "pygments_lexer": "ipython3",
   "version": "3.6.5"
  }
 },
 "nbformat": 4,
 "nbformat_minor": 2
}
