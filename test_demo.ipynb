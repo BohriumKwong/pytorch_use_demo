{
 "cells": [
  {
   "cell_type": "code",
   "execution_count": 1,
   "metadata": {},
   "outputs": [],
   "source": [
    "from __future__ import print_function, division\n",
    "import torch\n",
    "import torch.nn as nn\n",
    "from torchvision import models\n",
    "import os,sys\n",
    "import matplotlib.pyplot as plt\n",
    "import numpy as np\n",
    "from utils import train,test\n",
    "import pandas as pd\n",
    "import glob\n",
    "from skimage import io\n",
    "\n",
    "os.environ[\"CUDA_VISIBLE_DEVICES\"] = \"2\""
   ]
  },
  {
   "cell_type": "code",
   "execution_count": 2,
   "metadata": {},
   "outputs": [],
   "source": [
    "def load_torch_model(model_ft,model_path,device):\n",
    "    for param in model_ft.parameters():\n",
    "        param.requires_grad = False    \n",
    "    param_update=[]\n",
    "    for name,param in model_ft.layer3.named_parameters():\n",
    "        param.requires_grad = True\n",
    "        param_update.append(param)\n",
    "    for name,param in model_ft.layer4.named_parameters():\n",
    "        param.requires_grad = True\n",
    "        param_update.append(param)\n",
    "    for name,param in model_ft.fc.named_parameters():\n",
    "        param.requires_grad = True\n",
    "        param_update.append(param)\n",
    "    model_ft = nn.DataParallel(model_ft)\n",
    "    \n",
    "    model_wts = torch.load(model_path)\n",
    "    model_ft.load_state_dict(model_wts)    \n",
    "    model_ft = model_ft.to(device)\n",
    "    return model_ft"
   ]
  },
  {
   "cell_type": "code",
   "execution_count": 3,
   "metadata": {},
   "outputs": [],
   "source": [
    "if __name__ == '__main__':    \n",
    "    device = torch.device(\"cuda:0\" if torch.cuda.is_available() else \"cpu\")        \n",
    "    batch_size = 512\n",
    "    model_path = 'resnet_18_3.pth'\n",
    "    model_ft = models.resnet18(pretrained = False)\n",
    "    num_ftrs = model_ft.fc.in_features\n",
    "    model_ft.fc = nn.Linear(num_ftrs, 2)\n",
    "    model_ft = load_torch_model(model_ft,model_path,device)\n",
    "    folder_name = '/cptjack/totem_disk/totem/M_MSI_MSS/normal/test'"
   ]
  },
  {
   "cell_type": "code",
   "execution_count": 4,
   "metadata": {},
   "outputs": [
    {
     "name": "stdout",
     "output_type": "stream",
     "text": [
      "test: 100%|██████████| 19/19 [03:06<00:00,  9.39s/it, CrossEntropyLoss - 0.4899, Balanced_acc - 0.7637, recall - 0.8382]\n",
      "test Loss: 0.5645 Acc: 0.7758\n",
      "\n",
      "\n",
      "              precision    recall  f1-score   support\n",
      "\n",
      "      MSIMUT       0.19      0.70      0.30       469\n",
      "         MSS       0.98      0.85      0.91      9230\n",
      "\n",
      "   micro avg       0.84      0.84      0.84      9699\n",
      "   macro avg       0.59      0.77      0.60      9699\n",
      "weighted avg       0.94      0.84      0.88      9699\n",
      "\n",
      "\n",
      "\n"
     ]
    },
    {
     "data": {
      "image/png": "[encoded data removed]",
      "text/plain": [
       "<Figure size 432x288 with 2 Axes>"
      ]
     },
     "metadata": {},
     "output_type": "display_data"
    },
    {
     "name": "stdout",
     "output_type": "stream",
     "text": [
      "training complete in 3m 7s\n"
     ]
    }
   ],
   "source": [
    "    test_epoch = test.Test_epoch_from_folder(model_ft,folder_name,batch_size)\n",
    "    result = test_epoch.predict()"
   ]
  }
 ],
 "metadata": {
  "kernelspec": {
   "display_name": "Python 3",
   "language": "python",
   "name": "python3"
  },
  "language_info": {
   "codemirror_mode": {
    "name": "ipython",
    "version": 3
   },
   "file_extension": ".py",
   "mimetype": "text/x-python",
   "name": "python",
   "nbconvert_exporter": "python",
   "pygments_lexer": "ipython3",
   "version": "3.6.5"
  }
 },
 "nbformat": 4,
 "nbformat_minor": 2
}
